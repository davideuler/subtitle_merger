{
 "cells": [
  {
   "cell_type": "code",
   "execution_count": 1,
   "id": "63a8597e",
   "metadata": {},
   "outputs": [],
   "source": [
    "import srt\n",
    "import sys\n",
    "\n",
    "def load_srt(filename):\n",
    "    with open(filename, 'r', encoding='utf-8') as file:\n",
    "        return list(srt.parse(file.read()))"
   ]
  },
  {
   "cell_type": "code",
   "execution_count": 5,
   "id": "76bba917",
   "metadata": {},
   "outputs": [],
   "source": [
    "subtitles1 = load_srt(\"en.srt\")\n",
    "subtitles2 = load_srt(\"zh.srt\")"
   ]
  },
  {
   "cell_type": "code",
   "execution_count": 10,
   "id": "d68ebd3b",
   "metadata": {},
   "outputs": [
    {
     "name": "stdout",
     "output_type": "stream",
     "text": [
      "en:449 zh:443\n"
     ]
    }
   ],
   "source": [
    "print(\"en:%s zh:%s\" %  (len(subtitles1), len(subtitles2) ))"
   ]
  },
  {
   "cell_type": "code",
   "execution_count": 13,
   "id": "c5aba53f",
   "metadata": {},
   "outputs": [
    {
     "data": {
      "text/plain": [
       "Subtitle(index=2, start=datetime.timedelta(seconds=2, microseconds=810000), end=datetime.timedelta(seconds=2, microseconds=820000), content='if a job can be done by human and it\\n ', proprietary='')"
      ]
     },
     "execution_count": 13,
     "metadata": {},
     "output_type": "execute_result"
    }
   ],
   "source": [
    "subtitle = subtitles1[1]\n",
    "subtitle"
   ]
  },
  {
   "cell_type": "code",
   "execution_count": 15,
   "id": "af9aa6ba",
   "metadata": {},
   "outputs": [
    {
     "name": "stdout",
     "output_type": "stream",
     "text": [
      "Subtitle(index=2, start=datetime.timedelta(seconds=2, microseconds=810000), end=datetime.timedelta(seconds=2, microseconds=820000), content='如果一项工作可以由人类完成，并且需要\\n ', proprietary='')\n"
     ]
    }
   ],
   "source": [
    "for sub in subtitles2:\n",
    "    if sub.start == subtitle.start and sub.end == subtitle.end:\n",
    "        print(sub)"
   ]
  },
  {
   "cell_type": "code",
   "execution_count": 18,
   "id": "b4270fab",
   "metadata": {},
   "outputs": [],
   "source": [
    "base_subtitle, another_subtitle = (subtitles2, subtitles1) if len(subtitles1) > len(subtitles2) else (subtitles1, subtitles2)"
   ]
  },
  {
   "cell_type": "code",
   "execution_count": 22,
   "id": "4ba7b997",
   "metadata": {},
   "outputs": [],
   "source": [
    "output_file = \"merged_subtitles.srt\"\n",
    "for i in range(len(base_subtitle)):\n",
    "    subtitle = base_subtitle[i]\n",
    "    for sub in another_subtitle:\n",
    "        if sub.start == subtitle.start and sub.end == subtitle.end:\n",
    "            base_subtitle[i].content = sub.content + '\\n' + base_subtitle[i].content.replace('\\n', ' ')\n",
    "            continue\n",
    "            \n",
    "with open(output_file, 'w', encoding='UTF-8') as f:\n",
    "    f.write(srt.compose(base_subtitle))"
   ]
  },
  {
   "cell_type": "code",
   "execution_count": null,
   "id": "ec0dc09d",
   "metadata": {},
   "outputs": [],
   "source": []
  },
  {
   "cell_type": "code",
   "execution_count": null,
   "id": "e0f7a296",
   "metadata": {},
   "outputs": [],
   "source": []
  }
 ],
 "metadata": {
  "kernelspec": {
   "display_name": "Python 3 (ipykernel)",
   "language": "python",
   "name": "python3"
  },
  "language_info": {
   "codemirror_mode": {
    "name": "ipython",
    "version": 3
   },
   "file_extension": ".py",
   "mimetype": "text/x-python",
   "name": "python",
   "nbconvert_exporter": "python",
   "pygments_lexer": "ipython3",
   "version": "3.10.0"
  }
 },
 "nbformat": 4,
 "nbformat_minor": 5
}
